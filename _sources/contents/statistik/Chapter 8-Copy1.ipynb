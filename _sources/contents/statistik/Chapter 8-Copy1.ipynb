{
 "cells": [
  {
   "cell_type": "code",
   "execution_count": 2,
   "metadata": {},
   "outputs": [
    {
     "data": {
      "text/html": [
       "<table class=\"dataframe\">\n",
       "<caption>A data.frame: 6 × 2</caption>\n",
       "<thead>\n",
       "\t<tr><th></th><th scope=col>Diet</th><th scope=col>Bodyweight</th></tr>\n",
       "\t<tr><th></th><th scope=col>&lt;chr&gt;</th><th scope=col>&lt;dbl&gt;</th></tr>\n",
       "</thead>\n",
       "<tbody>\n",
       "\t<tr><th scope=row>1</th><td>chow</td><td>21.51</td></tr>\n",
       "\t<tr><th scope=row>2</th><td>chow</td><td>28.14</td></tr>\n",
       "\t<tr><th scope=row>3</th><td>chow</td><td>24.04</td></tr>\n",
       "\t<tr><th scope=row>4</th><td>chow</td><td>23.45</td></tr>\n",
       "\t<tr><th scope=row>5</th><td>chow</td><td>23.68</td></tr>\n",
       "\t<tr><th scope=row>6</th><td>chow</td><td>19.79</td></tr>\n",
       "</tbody>\n",
       "</table>\n"
      ],
      "text/latex": [
       "A data.frame: 6 × 2\n",
       "\\begin{tabular}{r|ll}\n",
       "  & Diet & Bodyweight\\\\\n",
       "  & <chr> & <dbl>\\\\\n",
       "\\hline\n",
       "\t1 & chow & 21.51\\\\\n",
       "\t2 & chow & 28.14\\\\\n",
       "\t3 & chow & 24.04\\\\\n",
       "\t4 & chow & 23.45\\\\\n",
       "\t5 & chow & 23.68\\\\\n",
       "\t6 & chow & 19.79\\\\\n",
       "\\end{tabular}\n"
      ],
      "text/markdown": [
       "\n",
       "A data.frame: 6 × 2\n",
       "\n",
       "| <!--/--> | Diet &lt;chr&gt; | Bodyweight &lt;dbl&gt; |\n",
       "|---|---|---|\n",
       "| 1 | chow | 21.51 |\n",
       "| 2 | chow | 28.14 |\n",
       "| 3 | chow | 24.04 |\n",
       "| 4 | chow | 23.45 |\n",
       "| 5 | chow | 23.68 |\n",
       "| 6 | chow | 19.79 |\n",
       "\n"
      ],
      "text/plain": [
       "  Diet Bodyweight\n",
       "1 chow 21.51     \n",
       "2 chow 28.14     \n",
       "3 chow 24.04     \n",
       "4 chow 23.45     \n",
       "5 chow 23.68     \n",
       "6 chow 19.79     "
      ]
     },
     "metadata": {},
     "output_type": "display_data"
    }
   ],
   "source": [
    "fWeights <- read.csv(\"femaleMiceWeights.csv\")\n",
    "head(fWeights) "
   ]
  },
  {
   "cell_type": "code",
   "execution_count": 5,
   "metadata": {},
   "outputs": [
    {
     "data": {
      "image/png": "[encoded data removed]",
      "text/plain": [
       "plot without title"
      ]
     },
     "metadata": {
      "image/png": {
       "height": 420,
       "width": 420
      }
     },
     "output_type": "display_data"
    }
   ],
   "source": [
    "plot(0:10, 0:10, type = \"n\", axes = FALSE, xlab = \"\", ylab = \"\")\n",
    "symbols(x = c(2.5, 2.5, 2.5) , y = c(7.5, 7.5, 7.5), circles = c(1, 2, 3) ,add = TRUE)\n",
    "symbols(x = c(7.5, 7.5, 7.5) , y = c(7.5, 7.5, 7.5), circles = c(1, 2, 3) ,add = TRUE)\n",
    "symbols(x = c(2.5, 2.5, 2.5) , y = c(2.5, 2.5, 2.5), circles = c(1, 2, 3) ,add = TRUE)\n",
    "symbols(x = c(7.5,7.5, 7.5) , y = c(2.5,2.5,2.5), circles = c(1,2,3) ,add = TRUE)\n",
    "points(x=c(2.4, 2.6, 2.3, 2.5, 2.7, 2.4, 2.6), \n",
    "       y=c(7.3, 7.3, 7.5, 7.5, 7.5, 7.7, 7.7), pch = 19)\n",
    "points(x=c(7.9, 8.1, 7.8, 8, 8.2, 7.9, 8.1) , \n",
    "       y=c(8.3, 8.3, 8.5, 8.5, 8.5, 8.7, 8.7), pch = 19)\n",
    "points(x=c(1.4, 3.6, 2.3, 1.5, 2.7, 2.4, 3.6), \n",
    "       y=c(2.2, 1.8, 3.1, 2.7, 2.5, 1.5, 3.2), pch = 19)\n",
    "points(x=c(8, 8.5, 9.1, 8.2, 8.4, 8.6, 9) , \n",
    "       y=c(2.8, 2.1, 2.7, 2.9, 3.3, 3.1, 3.5), pch = 19)\n",
    "text(2.5, 10, \"Low Variance, Low Bias\")\n",
    "text(7.5, 10, \"Low Variance, High Bias\")\n",
    "text(2.5, 5, \"High Variance, Low Bias\")\n",
    "text(7.5, 5, \"High Variance, High Bias\")"
   ]
  },
  {
   "cell_type": "code",
   "execution_count": 5,
   "metadata": {},
   "outputs": [
    {
     "ename": "ERROR",
     "evalue": "Error in ggplot(data.frame(x = c(2, 50)), aes(x = x)): could not find function \"ggplot\"\n",
     "output_type": "error",
     "traceback": [
      "Error in ggplot(data.frame(x = c(2, 50)), aes(x = x)): could not find function \"ggplot\"\nTraceback:\n"
     ]
    }
   ],
   "source": [
    "\n",
    "f <- function(x){sqrt(2/(x - 1))*gamma(x/2)/gamma((x - 1)/2)}\n",
    "p <- ggplot(data.frame(x = c(2, 50)), aes(x = x))\n",
    "p + stat_function(fun = f) +\n",
    "   labs(x = \"n\", y = expression(frac(sqrt(2)*phantom(0)*Gamma*\n",
    "      bgroup(\"(\",frac(n, 2),\")\"), sqrt(n - 1)*phantom(0)*Gamma*\n",
    "      bgroup(\"(\",frac(n - 1, 2),\")\")))) +\n",
    "   geom_hline(yintercept = 1, lty = \"dashed\") +\n",
    "   theme_bw()\n"
   ]
  },
  {
   "cell_type": "code",
   "execution_count": null,
   "metadata": {},
   "outputs": [],
   "source": []
  },
  {
   "cell_type": "code",
   "execution_count": null,
   "metadata": {},
   "outputs": [],
   "source": []
  },
  {
   "cell_type": "code",
   "execution_count": null,
   "metadata": {},
   "outputs": [],
   "source": []
  },
  {
   "cell_type": "code",
   "execution_count": null,
   "metadata": {},
   "outputs": [],
   "source": []
  },
  {
   "cell_type": "code",
   "execution_count": null,
   "metadata": {},
   "outputs": [],
   "source": []
  },
  {
   "cell_type": "code",
   "execution_count": null,
   "metadata": {},
   "outputs": [],
   "source": []
  }
 ],
 "metadata": {
  "kernelspec": {
   "display_name": "R",
   "language": "R",
   "name": "ir"
  },
  "language_info": {
   "codemirror_mode": "r",
   "file_extension": ".r",
   "mimetype": "text/x-r-source",
   "name": "R",
   "pygments_lexer": "r",
   "version": "4.1.2"
  }
 },
 "nbformat": 4,
 "nbformat_minor": 4
}
