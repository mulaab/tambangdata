{
 "cells": [
  {
   "cell_type": "markdown",
   "id": "85d5b600-57c1-4402-9356-51376aadb1be",
   "metadata": {},
   "source": [
    "# Chi-square menggunakan R"
   ]
  },
  {
   "cell_type": "code",
   "execution_count": 3,
   "id": "ac0eab9f-3339-45b6-985d-f167bbf87843",
   "metadata": {},
   "outputs": [],
   "source": [
    " data_frame <- read.csv(\"https://goo.gl/j6lRXD\")"
   ]
  },
  {
   "cell_type": "code",
   "execution_count": 6,
   "id": "093ad0e6-8bc9-40dc-ae4c-fae7acf43327",
   "metadata": {},
   "outputs": [
    {
     "data": {
      "text/html": [
       "<table class=\"dataframe\">\n",
       "<caption>A data.frame: 105 × 3</caption>\n",
       "<thead>\n",
       "\t<tr><th scope=col>id</th><th scope=col>treatment</th><th scope=col>improvement</th></tr>\n",
       "\t<tr><th scope=col>&lt;int&gt;</th><th scope=col>&lt;chr&gt;</th><th scope=col>&lt;chr&gt;</th></tr>\n",
       "</thead>\n",
       "<tbody>\n",
       "\t<tr><td> 1</td><td>treated    </td><td>improved    </td></tr>\n",
       "\t<tr><td> 2</td><td>treated    </td><td>improved    </td></tr>\n",
       "\t<tr><td> 3</td><td>not-treated</td><td>improved    </td></tr>\n",
       "\t<tr><td> 4</td><td>treated    </td><td>improved    </td></tr>\n",
       "\t<tr><td> 5</td><td>treated    </td><td>not-improved</td></tr>\n",
       "\t<tr><td> 6</td><td>treated    </td><td>not-improved</td></tr>\n",
       "\t<tr><td> 7</td><td>not-treated</td><td>not-improved</td></tr>\n",
       "\t<tr><td> 8</td><td>treated    </td><td>not-improved</td></tr>\n",
       "\t<tr><td> 9</td><td>not-treated</td><td>improved    </td></tr>\n",
       "\t<tr><td>10</td><td>treated    </td><td>improved    </td></tr>\n",
       "\t<tr><td>11</td><td>not-treated</td><td>improved    </td></tr>\n",
       "\t<tr><td>12</td><td>not-treated</td><td>not-improved</td></tr>\n",
       "\t<tr><td>13</td><td>not-treated</td><td>not-improved</td></tr>\n",
       "\t<tr><td>14</td><td>not-treated</td><td>not-improved</td></tr>\n",
       "\t<tr><td>15</td><td>not-treated</td><td>improved    </td></tr>\n",
       "\t<tr><td>16</td><td>not-treated</td><td>improved    </td></tr>\n",
       "\t<tr><td>17</td><td>treated    </td><td>improved    </td></tr>\n",
       "\t<tr><td>18</td><td>treated    </td><td>improved    </td></tr>\n",
       "\t<tr><td>19</td><td>not-treated</td><td>not-improved</td></tr>\n",
       "\t<tr><td>20</td><td>not-treated</td><td>not-improved</td></tr>\n",
       "\t<tr><td>21</td><td>treated    </td><td>not-improved</td></tr>\n",
       "\t<tr><td>22</td><td>not-treated</td><td>not-improved</td></tr>\n",
       "\t<tr><td>23</td><td>treated    </td><td>not-improved</td></tr>\n",
       "\t<tr><td>24</td><td>not-treated</td><td>improved    </td></tr>\n",
       "\t<tr><td>25</td><td>treated    </td><td>improved    </td></tr>\n",
       "\t<tr><td>26</td><td>treated    </td><td>improved    </td></tr>\n",
       "\t<tr><td>27</td><td>not-treated</td><td>not-improved</td></tr>\n",
       "\t<tr><td>28</td><td>not-treated</td><td>improved    </td></tr>\n",
       "\t<tr><td>29</td><td>treated    </td><td>not-improved</td></tr>\n",
       "\t<tr><td>30</td><td>treated    </td><td>improved    </td></tr>\n",
       "\t<tr><td>...</td><td>...</td><td>...</td></tr>\n",
       "\t<tr><td> 76</td><td>not-treated</td><td>not-improved</td></tr>\n",
       "\t<tr><td> 77</td><td>treated    </td><td>not-improved</td></tr>\n",
       "\t<tr><td> 78</td><td>not-treated</td><td>improved    </td></tr>\n",
       "\t<tr><td> 79</td><td>treated    </td><td>improved    </td></tr>\n",
       "\t<tr><td> 80</td><td>treated    </td><td>improved    </td></tr>\n",
       "\t<tr><td> 81</td><td>treated    </td><td>improved    </td></tr>\n",
       "\t<tr><td> 82</td><td>not-treated</td><td>not-improved</td></tr>\n",
       "\t<tr><td> 83</td><td>treated    </td><td>improved    </td></tr>\n",
       "\t<tr><td> 84</td><td>not-treated</td><td>not-improved</td></tr>\n",
       "\t<tr><td> 85</td><td>treated    </td><td>improved    </td></tr>\n",
       "\t<tr><td> 86</td><td>not-treated</td><td>improved    </td></tr>\n",
       "\t<tr><td> 87</td><td>not-treated</td><td>not-improved</td></tr>\n",
       "\t<tr><td> 88</td><td>treated    </td><td>improved    </td></tr>\n",
       "\t<tr><td> 89</td><td>not-treated</td><td>not-improved</td></tr>\n",
       "\t<tr><td> 90</td><td>treated    </td><td>improved    </td></tr>\n",
       "\t<tr><td> 91</td><td>not-treated</td><td>not-improved</td></tr>\n",
       "\t<tr><td> 92</td><td>not-treated</td><td>improved    </td></tr>\n",
       "\t<tr><td> 93</td><td>treated    </td><td>not-improved</td></tr>\n",
       "\t<tr><td> 94</td><td>treated    </td><td>not-improved</td></tr>\n",
       "\t<tr><td> 95</td><td>not-treated</td><td>not-improved</td></tr>\n",
       "\t<tr><td> 96</td><td>treated    </td><td>improved    </td></tr>\n",
       "\t<tr><td> 97</td><td>not-treated</td><td>improved    </td></tr>\n",
       "\t<tr><td> 98</td><td>treated    </td><td>improved    </td></tr>\n",
       "\t<tr><td> 99</td><td>not-treated</td><td>not-improved</td></tr>\n",
       "\t<tr><td>100</td><td>not-treated</td><td>improved    </td></tr>\n",
       "\t<tr><td>101</td><td>treated    </td><td>improved    </td></tr>\n",
       "\t<tr><td>102</td><td>treated    </td><td>improved    </td></tr>\n",
       "\t<tr><td>103</td><td>not-treated</td><td>not-improved</td></tr>\n",
       "\t<tr><td>104</td><td>treated    </td><td>improved    </td></tr>\n",
       "\t<tr><td>105</td><td>not-treated</td><td>not-improved</td></tr>\n",
       "</tbody>\n",
       "</table>\n"
      ],
      "text/latex": [
       "A data.frame: 105 × 3\n",
       "\\begin{tabular}{lll}\n",
       " id & treatment & improvement\\\\\n",
       " <int> & <chr> & <chr>\\\\\n",
       "\\hline\n",
       "\t  1 & treated     & improved    \\\\\n",
       "\t  2 & treated     & improved    \\\\\n",
       "\t  3 & not-treated & improved    \\\\\n",
       "\t  4 & treated     & improved    \\\\\n",
       "\t  5 & treated     & not-improved\\\\\n",
       "\t  6 & treated     & not-improved\\\\\n",
       "\t  7 & not-treated & not-improved\\\\\n",
       "\t  8 & treated     & not-improved\\\\\n",
       "\t  9 & not-treated & improved    \\\\\n",
       "\t 10 & treated     & improved    \\\\\n",
       "\t 11 & not-treated & improved    \\\\\n",
       "\t 12 & not-treated & not-improved\\\\\n",
       "\t 13 & not-treated & not-improved\\\\\n",
       "\t 14 & not-treated & not-improved\\\\\n",
       "\t 15 & not-treated & improved    \\\\\n",
       "\t 16 & not-treated & improved    \\\\\n",
       "\t 17 & treated     & improved    \\\\\n",
       "\t 18 & treated     & improved    \\\\\n",
       "\t 19 & not-treated & not-improved\\\\\n",
       "\t 20 & not-treated & not-improved\\\\\n",
       "\t 21 & treated     & not-improved\\\\\n",
       "\t 22 & not-treated & not-improved\\\\\n",
       "\t 23 & treated     & not-improved\\\\\n",
       "\t 24 & not-treated & improved    \\\\\n",
       "\t 25 & treated     & improved    \\\\\n",
       "\t 26 & treated     & improved    \\\\\n",
       "\t 27 & not-treated & not-improved\\\\\n",
       "\t 28 & not-treated & improved    \\\\\n",
       "\t 29 & treated     & not-improved\\\\\n",
       "\t 30 & treated     & improved    \\\\\n",
       "\t ... & ... & ...\\\\\n",
       "\t  76 & not-treated & not-improved\\\\\n",
       "\t  77 & treated     & not-improved\\\\\n",
       "\t  78 & not-treated & improved    \\\\\n",
       "\t  79 & treated     & improved    \\\\\n",
       "\t  80 & treated     & improved    \\\\\n",
       "\t  81 & treated     & improved    \\\\\n",
       "\t  82 & not-treated & not-improved\\\\\n",
       "\t  83 & treated     & improved    \\\\\n",
       "\t  84 & not-treated & not-improved\\\\\n",
       "\t  85 & treated     & improved    \\\\\n",
       "\t  86 & not-treated & improved    \\\\\n",
       "\t  87 & not-treated & not-improved\\\\\n",
       "\t  88 & treated     & improved    \\\\\n",
       "\t  89 & not-treated & not-improved\\\\\n",
       "\t  90 & treated     & improved    \\\\\n",
       "\t  91 & not-treated & not-improved\\\\\n",
       "\t  92 & not-treated & improved    \\\\\n",
       "\t  93 & treated     & not-improved\\\\\n",
       "\t  94 & treated     & not-improved\\\\\n",
       "\t  95 & not-treated & not-improved\\\\\n",
       "\t  96 & treated     & improved    \\\\\n",
       "\t  97 & not-treated & improved    \\\\\n",
       "\t  98 & treated     & improved    \\\\\n",
       "\t  99 & not-treated & not-improved\\\\\n",
       "\t 100 & not-treated & improved    \\\\\n",
       "\t 101 & treated     & improved    \\\\\n",
       "\t 102 & treated     & improved    \\\\\n",
       "\t 103 & not-treated & not-improved\\\\\n",
       "\t 104 & treated     & improved    \\\\\n",
       "\t 105 & not-treated & not-improved\\\\\n",
       "\\end{tabular}\n"
      ],
      "text/markdown": [
       "\n",
       "A data.frame: 105 × 3\n",
       "\n",
       "| id &lt;int&gt; | treatment &lt;chr&gt; | improvement &lt;chr&gt; |\n",
       "|---|---|---|\n",
       "|  1 | treated     | improved     |\n",
       "|  2 | treated     | improved     |\n",
       "|  3 | not-treated | improved     |\n",
       "|  4 | treated     | improved     |\n",
       "|  5 | treated     | not-improved |\n",
       "|  6 | treated     | not-improved |\n",
       "|  7 | not-treated | not-improved |\n",
       "|  8 | treated     | not-improved |\n",
       "|  9 | not-treated | improved     |\n",
       "| 10 | treated     | improved     |\n",
       "| 11 | not-treated | improved     |\n",
       "| 12 | not-treated | not-improved |\n",
       "| 13 | not-treated | not-improved |\n",
       "| 14 | not-treated | not-improved |\n",
       "| 15 | not-treated | improved     |\n",
       "| 16 | not-treated | improved     |\n",
       "| 17 | treated     | improved     |\n",
       "| 18 | treated     | improved     |\n",
       "| 19 | not-treated | not-improved |\n",
       "| 20 | not-treated | not-improved |\n",
       "| 21 | treated     | not-improved |\n",
       "| 22 | not-treated | not-improved |\n",
       "| 23 | treated     | not-improved |\n",
       "| 24 | not-treated | improved     |\n",
       "| 25 | treated     | improved     |\n",
       "| 26 | treated     | improved     |\n",
       "| 27 | not-treated | not-improved |\n",
       "| 28 | not-treated | improved     |\n",
       "| 29 | treated     | not-improved |\n",
       "| 30 | treated     | improved     |\n",
       "| ... | ... | ... |\n",
       "|  76 | not-treated | not-improved |\n",
       "|  77 | treated     | not-improved |\n",
       "|  78 | not-treated | improved     |\n",
       "|  79 | treated     | improved     |\n",
       "|  80 | treated     | improved     |\n",
       "|  81 | treated     | improved     |\n",
       "|  82 | not-treated | not-improved |\n",
       "|  83 | treated     | improved     |\n",
       "|  84 | not-treated | not-improved |\n",
       "|  85 | treated     | improved     |\n",
       "|  86 | not-treated | improved     |\n",
       "|  87 | not-treated | not-improved |\n",
       "|  88 | treated     | improved     |\n",
       "|  89 | not-treated | not-improved |\n",
       "|  90 | treated     | improved     |\n",
       "|  91 | not-treated | not-improved |\n",
       "|  92 | not-treated | improved     |\n",
       "|  93 | treated     | not-improved |\n",
       "|  94 | treated     | not-improved |\n",
       "|  95 | not-treated | not-improved |\n",
       "|  96 | treated     | improved     |\n",
       "|  97 | not-treated | improved     |\n",
       "|  98 | treated     | improved     |\n",
       "|  99 | not-treated | not-improved |\n",
       "| 100 | not-treated | improved     |\n",
       "| 101 | treated     | improved     |\n",
       "| 102 | treated     | improved     |\n",
       "| 103 | not-treated | not-improved |\n",
       "| 104 | treated     | improved     |\n",
       "| 105 | not-treated | not-improved |\n",
       "\n"
      ],
      "text/plain": [
       "    id  treatment   improvement \n",
       "1    1  treated     improved    \n",
       "2    2  treated     improved    \n",
       "3    3  not-treated improved    \n",
       "4    4  treated     improved    \n",
       "5    5  treated     not-improved\n",
       "6    6  treated     not-improved\n",
       "7    7  not-treated not-improved\n",
       "8    8  treated     not-improved\n",
       "9    9  not-treated improved    \n",
       "10  10  treated     improved    \n",
       "11  11  not-treated improved    \n",
       "12  12  not-treated not-improved\n",
       "13  13  not-treated not-improved\n",
       "14  14  not-treated not-improved\n",
       "15  15  not-treated improved    \n",
       "16  16  not-treated improved    \n",
       "17  17  treated     improved    \n",
       "18  18  treated     improved    \n",
       "19  19  not-treated not-improved\n",
       "20  20  not-treated not-improved\n",
       "21  21  treated     not-improved\n",
       "22  22  not-treated not-improved\n",
       "23  23  treated     not-improved\n",
       "24  24  not-treated improved    \n",
       "25  25  treated     improved    \n",
       "26  26  treated     improved    \n",
       "27  27  not-treated not-improved\n",
       "28  28  not-treated improved    \n",
       "29  29  treated     not-improved\n",
       "30  30  treated     improved    \n",
       "... ... ...         ...         \n",
       "76   76 not-treated not-improved\n",
       "77   77 treated     not-improved\n",
       "78   78 not-treated improved    \n",
       "79   79 treated     improved    \n",
       "80   80 treated     improved    \n",
       "81   81 treated     improved    \n",
       "82   82 not-treated not-improved\n",
       "83   83 treated     improved    \n",
       "84   84 not-treated not-improved\n",
       "85   85 treated     improved    \n",
       "86   86 not-treated improved    \n",
       "87   87 not-treated not-improved\n",
       "88   88 treated     improved    \n",
       "89   89 not-treated not-improved\n",
       "90   90 treated     improved    \n",
       "91   91 not-treated not-improved\n",
       "92   92 not-treated improved    \n",
       "93   93 treated     not-improved\n",
       "94   94 treated     not-improved\n",
       "95   95 not-treated not-improved\n",
       "96   96 treated     improved    \n",
       "97   97 not-treated improved    \n",
       "98   98 treated     improved    \n",
       "99   99 not-treated not-improved\n",
       "100 100 not-treated improved    \n",
       "101 101 treated     improved    \n",
       "102 102 treated     improved    \n",
       "103 103 not-treated not-improved\n",
       "104 104 treated     improved    \n",
       "105 105 not-treated not-improved"
      ]
     },
     "metadata": {},
     "output_type": "display_data"
    }
   ],
   "source": [
    "data_frame"
   ]
  },
  {
   "cell_type": "code",
   "execution_count": 5,
   "id": "eb9f3b0e-e289-4dde-8440-518b9d13850c",
   "metadata": {},
   "outputs": [
    {
     "data": {
      "text/plain": [
       "             \n",
       "              improved not-improved\n",
       "  not-treated       26           29\n",
       "  treated           35           15"
      ]
     },
     "metadata": {},
     "output_type": "display_data"
    }
   ],
   "source": [
    "table(data_frame$treatment, data_frame$improvement)"
   ]
  },
  {
   "cell_type": "code",
   "execution_count": 7,
   "id": "19955b56-dad0-4b8a-8127-31ca4a118548",
   "metadata": {},
   "outputs": [
    {
     "data": {
      "text/plain": [
       "\n",
       "\tPearson's Chi-squared test\n",
       "\n",
       "data:  data_frame$treatment and data_frame$improvement\n",
       "X-squared = 5.5569, df = 1, p-value = 0.01841\n"
      ]
     },
     "metadata": {},
     "output_type": "display_data"
    }
   ],
   "source": [
    "chisq.test(data_frame$treatment, data_frame$improvement, correct=FALSE)"
   ]
  },
  {
   "cell_type": "markdown",
   "id": "72caa0dd-28fd-470a-9d6c-7445e63a98f2",
   "metadata": {},
   "source": [
    "## Kesimpulan\n",
    "Berdasarkan hasil  nilai chi-square hitung 5,5569. Kita telah mendapatkan p-Value lebih kecil dari tingkat signifikansi 0,05, sehingga  menolak hipotesis nol (null hypothesis ) dan  menyimpulkan bahwa kedua variabel tersebut adalah saling terkait (dependent)"
   ]
  },
  {
   "cell_type": "code",
   "execution_count": 13,
   "id": "1b7bc323-0264-411a-9cf0-5ba93b6fe887",
   "metadata": {},
   "outputs": [],
   "source": [
    "from functools import partial\n",
    "from rpy2.ipython import html\n",
    "html.html_rdataframe=partial(html.html_rdataframe, table_class=\"docutils\")"
   ]
  },
  {
   "cell_type": "code",
   "execution_count": 14,
   "id": "71fc66da-c6e6-4ee7-9f05-47747c215fd2",
   "metadata": {},
   "outputs": [],
   "source": [
    "from rpy2.robjects.packages import importr\n",
    "utils = importr('utils')\n",
    "\n",
    "dataf = utils.read_csv('https://raw.githubusercontent.com/jakevdp/PythonDataScienceHandbook/'\n",
    "                       'master/notebooks/data/california_cities.csv')"
   ]
  },
  {
   "cell_type": "code",
   "execution_count": 15,
   "id": "204173fa-7c2f-4571-84c3-82d15f664cd6",
   "metadata": {},
   "outputs": [],
   "source": [
    "import rpy2.ipython.html\n",
    "rpy2.ipython.html.init_printing()"
   ]
  },
  {
   "cell_type": "code",
   "execution_count": 16,
   "id": "f6760244-ab30-4139-b361-ee34224173a6",
   "metadata": {},
   "outputs": [
    {
     "data": {
      "text/html": [
       "\n",
       "<emph>DataFrame</emph> with 482 rows and\n",
       "  14 columns:\n",
       "<table class=\"docutils\">\n",
       "  <thead>\n",
       "    <tr class=\"rpy2_names\">\n",
       "      <th></th>\n",
       "      <th></th>\n",
       "      <th>X</th>\n",
       "      <th>city</th>\n",
       "      <th>latd</th>\n",
       "      <th>longd</th>\n",
       "      <th>...</th>\n",
       "      <th>area_water_km2</th>\n",
       "      <th>area_water_percent</th>\n",
       "    </tr>\n",
       "  </thead>\n",
       "  <tbody>\n",
       "    <tr>\n",
       "      <td class=\"rpy2_rowname\">0</td>\n",
       "        <td class=\"rpy2_names\">1</td>\n",
       "      <td>0</td>\n",
       "      <td>Adelanto</td>\n",
       "      <td>34.57611111111112</td>\n",
       "      <td>-117.43277777777779</td>\n",
       "       <td>...</td>\n",
       "      <td>0.046</td>\n",
       "      <td>0.03</td>\n",
       "    </tr>\n",
       "    <tr>\n",
       "      <td class=\"rpy2_rowname\">1</td>\n",
       "        <td class=\"rpy2_names\">2</td>\n",
       "      <td>1</td>\n",
       "      <td>AgouraHills</td>\n",
       "      <td>34.15333333333333</td>\n",
       "      <td>-118.76166666666667</td>\n",
       "       <td>...</td>\n",
       "      <td>0.076</td>\n",
       "      <td>0.37</td>\n",
       "    </tr>\n",
       "    <tr>\n",
       "      <td class=\"rpy2_rowname\">2</td>\n",
       "        <td class=\"rpy2_names\">3</td>\n",
       "      <td>2</td>\n",
       "      <td>Alameda</td>\n",
       "      <td>37.75611111111111</td>\n",
       "      <td>-122.27444444444444</td>\n",
       "       <td>...</td>\n",
       "      <td>31.983</td>\n",
       "      <td>53.79</td>\n",
       "    </tr>\n",
       "    <tr>\n",
       "      <td class=\"rpy2_rowname\">3</td>\n",
       "        <td class=\"rpy2_names\">4</td>\n",
       "      <td>3</td>\n",
       "      <td>Albany</td>\n",
       "      <td>37.886944444444445</td>\n",
       "      <td>-122.29777777777778</td>\n",
       "       <td>...</td>\n",
       "      <td>9.524</td>\n",
       "      <td>67.28</td>\n",
       "    </tr>\n",
       "    <tr>\n",
       "      <td class=\"rpy2_rowname\">4</td>\n",
       "        <td class=\"rpy2_names\">5</td>\n",
       "      <td>4</td>\n",
       "      <td>Alhambra</td>\n",
       "      <td>34.081944444444446</td>\n",
       "      <td>-118.135</td>\n",
       "       <td>...</td>\n",
       "      <td>0.003</td>\n",
       "      <td>0.01</td>\n",
       "    </tr>\n",
       "    <tr>\n",
       "      <td class=\"rpy2_rowname\">5</td>\n",
       "        <td class=\"rpy2_names\">6</td>\n",
       "      <td>5</td>\n",
       "      <td>AlisoViejo</td>\n",
       "      <td>33.575</td>\n",
       "      <td>-117.72555555555556</td>\n",
       "       <td>...</td>\n",
       "      <td>0.0</td>\n",
       "      <td>0.0</td>\n",
       "    </tr>\n",
       "    <tr>\n",
       "      <td class=\"rpy2_rowname\">6</td>\n",
       "        <td class=\"rpy2_names\">7</td>\n",
       "      <td>6</td>\n",
       "      <td>Alturas</td>\n",
       "      <td>41.48722222222222</td>\n",
       "      <td>-120.5425</td>\n",
       "       <td>...</td>\n",
       "      <td>0.036000000000000004</td>\n",
       "      <td>0.57</td>\n",
       "    </tr>\n",
       "    <tr>\n",
       "      <td class=\"rpy2_rowname\">7</td>\n",
       "        <td class=\"rpy2_names\">8</td>\n",
       "      <td>7</td>\n",
       "      <td>AmadorCity</td>\n",
       "      <td>38.419444444444444</td>\n",
       "      <td>-120.82416666666666</td>\n",
       "       <td>...</td>\n",
       "      <td>0.0</td>\n",
       "      <td>0.0</td>\n",
       "    </tr>\n",
       "    <tr>\n",
       "      <td class=\"rpy2_rowname\">...</td>\n",
       "        <td class=\"rpy2_names\">...</td>\n",
       "      <td>...</td>\n",
       "      <td>...</td>\n",
       "      <td>...</td>\n",
       "      <td>...</td>\n",
       "       <td>...</td>\n",
       "      <td>...</td>\n",
       "      <td>...</td>\n",
       "    </tr>\n",
       "    <tr>\n",
       "      <td class=\"rpy2_rowname\">480</td>\n",
       "        <td class=\"rpy2_names\">481</td>\n",
       "      <td>480</td>\n",
       "      <td>Yucaipa</td>\n",
       "      <td>34.030277777777776</td>\n",
       "      <td>-117.04861111111111</td>\n",
       "       <td>...</td>\n",
       "      <td>0.013000000000000001</td>\n",
       "      <td>0.02</td>\n",
       "    </tr>\n",
       "    <tr>\n",
       "      <td class=\"rpy2_rowname\">481</td>\n",
       "        <td class=\"rpy2_names\">482</td>\n",
       "      <td>481</td>\n",
       "      <td>YuccaValley</td>\n",
       "      <td>34.13333333333333</td>\n",
       "      <td>-116.41666666666667</td>\n",
       "       <td>...</td>\n",
       "      <td>0.0</td>\n",
       "      <td>0.0</td>\n",
       "    </tr>\n",
       "  </tbody>\n",
       "</table>"
      ],
      "text/plain": [
       "<rpy2.robjects.vectors.DataFrame object at 0x0F80A3F0> [RTYPES.VECSXP]\n",
       "R classes: ('data.frame',)\n",
       "[IntSexpVe..., StrSexpVe..., FloatSexp..., FloatSexp..., ..., FloatSexp..., FloatSexp..., FloatSexp..., FloatSexp...]\n",
       "  X: <class 'rpy2.robjects.vectors.IntVector'>\n",
       "  <rpy2.robjects.vectors.IntVector object at 0x03D8D8C8> [RTYPES.INTSXP]\n",
       "R classes: ('integer',)\n",
       "[0, 1, 2, 3, ..., 478, 479, 480, 481]\n",
       "  city: <class 'rpy2.robjects.vectors.StrVector'>\n",
       "  <rpy2.robjects.vectors.StrVector object at 0x03D8D6E8> [RTYPES.STRSXP]\n",
       "R classes: ('character',)\n",
       "['Adelanto', 'AgouraHi..., 'Alameda', 'Albany', ..., 'Yreka', 'YubaCity', 'Yucaipa', 'YuccaVal...]\n",
       "  latd: <class 'rpy2.robjects.vectors.FloatVector'>\n",
       "  <rpy2.robjects.vectors.FloatVector object at 0x03D8DE18> [RTYPES.REALSXP]\n",
       "R classes: ('numeric',)\n",
       "[34.576111, 34.153333, 37.756111, 37.886944, ..., 41.726667, 39.134722, 34.030278, 34.133333]\n",
       "  longd: <class 'rpy2.robjects.vectors.FloatVector'>\n",
       "  <rpy2.robjects.vectors.FloatVector object at 0x03D8DAA8> [RTYPES.REALSXP]\n",
       "R classes: ('numeric',)\n",
       "[-117.432778, -118.761667, -122.274444, -122.297778, ..., -122.637500, -121.626111, -117.048611, -116.416667]\n",
       "...\n",
       "  elevation_ft: <class 'rpy2.robjects.vectors.FloatVector'>\n",
       "  <rpy2.robjects.vectors.FloatVector object at 0x03D8D648> [RTYPES.REALSXP]\n",
       "R classes: ('numeric',)\n",
       "[145.107000, 20.260000, 59.465000, 14.155000, ..., 26.036000, 37.959000, 72.244000, 103.639000]\n",
       "  population_total: <class 'rpy2.robjects.vectors.FloatVector'>\n",
       "  <rpy2.robjects.vectors.FloatVector object at 0x03D8D850> [RTYPES.REALSXP]\n",
       "R classes: ('numeric',)\n",
       "[145.062000, 20.184000, 27.482000, 4.632000, ..., 25.847000, 37.758000, 72.231000, 103.639000]\n",
       "  area_total_sq_mi: <class 'rpy2.robjects.vectors.FloatVector'>\n",
       "  <rpy2.robjects.vectors.FloatVector object at 0x03D8D260> [RTYPES.REALSXP]\n",
       "R classes: ('numeric',)\n",
       "[0.046000, 0.076000, 31.983000, 9.524000, ..., 0.188000, 0.201000, 0.013000, 0.000000]\n",
       "  area_land_sq_mi: <class 'rpy2.robjects.vectors.FloatVector'>\n",
       "  <rpy2.robjects.vectors.FloatVector object at 0x03D8D9E0> [RTYPES.REALSXP]\n",
       "R classes: ('numeric',)\n",
       "[0.030000, 0.370000, 53.790000, 67.280000, ..., 0.720000, 0.530000, 0.020000, 0.000000]"
      ]
     },
     "execution_count": 16,
     "metadata": {},
     "output_type": "execute_result"
    }
   ],
   "source": [
    "dataf"
   ]
  },
  {
   "cell_type": "code",
   "execution_count": 19,
   "id": "afe3b0e8-a17f-475a-b50b-ee372dd278dc",
   "metadata": {},
   "outputs": [
    {
     "name": "stdout",
     "output_type": "stream",
     "text": [
      "The rmagic extension is already loaded. To reload it, use:\n",
      "  %reload_ext rmagic\n"
     ]
    }
   ],
   "source": [
    "%load_ext rmagic"
   ]
  },
  {
   "cell_type": "code",
   "execution_count": 20,
   "id": "7781ed4e-168f-4395-b86b-b5951e68ef7e",
   "metadata": {},
   "outputs": [
    {
     "data": {
      "text/plain": [
       "<matplotlib.collections.PathCollection at 0x1445c3f0>"
      ]
     },
     "execution_count": 20,
     "metadata": {},
     "output_type": "execute_result"
    },
    {
     "data": {
      "image/png": "[encoded data removed]",
      "text/plain": [
       "<Figure size 432x288 with 1 Axes>"
      ]
     },
     "metadata": {
      "needs_background": "light"
     },
     "output_type": "display_data"
    }
   ],
   "source": [
    "import numpy as np\n",
    "import matplotlib.pyplot as plt\n",
    "X = np.array([0,1,2,3,4])\n",
    "Y = np.array([3,5,4,6,7])\n",
    "plt.scatter(X, Y)"
   ]
  },
  {
   "cell_type": "code",
   "execution_count": 21,
   "id": "e24e1b8e-0201-4acb-a8f3-c9c8968812e5",
   "metadata": {},
   "outputs": [
    {
     "data": {
      "text/plain": [
       "array([3.2, 0.9])"
      ]
     },
     "execution_count": 21,
     "metadata": {},
     "output_type": "execute_result"
    }
   ],
   "source": [
    "%Rpush X Y\n",
    "%R lm(Y~X)$coef"
   ]
  },
  {
   "cell_type": "code",
   "execution_count": 22,
   "id": "cd166016-9357-4c73-ac68-7682bf8b7f20",
   "metadata": {},
   "outputs": [
    {
     "data": {
      "text/plain": [
       "(3.2, 0.9)"
      ]
     },
     "execution_count": 22,
     "metadata": {},
     "output_type": "execute_result"
    }
   ],
   "source": [
    "Xr = X - X.mean(); Yr = Y - Y.mean()\n",
    "slope = (Xr*Yr).sum() / (Xr**2).sum()\n",
    "intercept = Y.mean() - X.mean() * slope\n",
    "(intercept, slope)"
   ]
  },
  {
   "cell_type": "code",
   "execution_count": 23,
   "id": "adcce9ad-307c-432a-8aae-88b6e97a0d07",
   "metadata": {},
   "outputs": [
    {
     "data": {
      "text/plain": [
       "array([-2.5,  0.9])"
      ]
     },
     "execution_count": 23,
     "metadata": {},
     "output_type": "execute_result"
    }
   ],
   "source": [
    "%R resid(lm(Y~X)); coef(lm(X~Y))"
   ]
  },
  {
   "cell_type": "code",
   "execution_count": 25,
   "id": "08a2d97e-5faa-498c-8aa9-beaabe68565c",
   "metadata": {},
   "outputs": [
    {
     "name": "stdout",
     "output_type": "stream",
     "text": [
      "[-0.2  0.9 -1.   0.1  0.2]\n",
      "<rpy2.rinterface.FloatSexpVector object at 0x1551F260> [RTYPES.REALSXP]\n"
     ]
    }
   ],
   "source": [
    "%R d=resid(lm(Y~X)); e=coef(lm(Y~X))\n",
    "%R -o d -o e\n",
    "%Rpull e\n",
    "print(d)\n",
    "print(e)\n",
    "import numpy as np\n",
    "np.testing.assert_almost_equal(d, a)"
   ]
  },
  {
   "cell_type": "code",
   "execution_count": 26,
   "id": "88f63004-8d1b-4508-aa61-1cb86551dbf6",
   "metadata": {},
   "outputs": [
    {
     "data": {
      "text/plain": [
       "array([9.5])"
      ]
     },
     "execution_count": 26,
     "metadata": {},
     "output_type": "execute_result"
    }
   ],
   "source": [
    "A = np.arange(20)\n",
    "%R -i A\n",
    "%R mean(A)"
   ]
  },
  {
   "cell_type": "code",
   "execution_count": 27,
   "id": "9150a151-6311-46bb-997d-e24160ba8954",
   "metadata": {},
   "outputs": [
    {
     "data": {
      "text/plain": [
       "array([ 0,  1,  2,  3,  4,  5,  6,  7,  8,  9, 10, 11, 12, 13, 14, 15, 16,\n",
       "       17, 18, 19], dtype=int32)"
      ]
     },
     "execution_count": 27,
     "metadata": {},
     "output_type": "execute_result"
    }
   ],
   "source": [
    "%Rget A"
   ]
  },
  {
   "cell_type": "code",
   "execution_count": 28,
   "id": "b8c57c88-317e-4627-8498-e55eac1606af",
   "metadata": {},
   "outputs": [
    {
     "name": "stdout",
     "output_type": "stream",
     "text": [
      "\n",
      "Call:\n",
      "lm(formula = Y ~ X)\n",
      "\n",
      "Residuals:\n",
      "\n",
      "-0.2  0.9 -1.0  0.1  0.2 \n",
      "\n",
      "Coefficients:\n",
      "           \n",
      "---\n",
      "Signif. codes:  0 '***' 0.001 '**' 0.01 '*' 0.05 '.' 0.1 ' ' 1\n",
      "\n",
      "Residual standard error: 0.7958 on 3 degrees of freedom\n",
      "Multiple R-squared:   0.81,\tAdjusted R-squared:  0.7467 \n",
      "F-statistic: 12.79 on 1 and 3 DF,  p-value: 0.03739\n"
     ]
    },
    {
     "name": "stderr",
     "output_type": "stream",
     "text": [
      "From cffi callback <function _consolewrite_ex at 0x038D7078>:\n",
      "Traceback (most recent call last):\n",
      "  File \"C:\\Users\\mulaab\\miniconda3\\lib\\site-packages\\rpy2\\rinterface_lib\\callbacks.py\", line 133, in _consolewrite_ex\n",
      "    s = conversion._cchar_to_str_with_maxlen(buf, n, _CCHAR_ENCODING)\n",
      "  File \"C:\\Users\\mulaab\\miniconda3\\lib\\site-packages\\rpy2\\rinterface_lib\\conversion.py\", line 138, in _cchar_to_str_with_maxlen\n",
      "    s = ffi.string(c, maxlen).decode(encoding)\n",
      "UnicodeDecodeError: 'utf-8' codec can't decode byte 0xff in position 4: invalid start byte\n",
      "From cffi callback <function _consolewrite_ex at 0x038D7078>:\n",
      "Traceback (most recent call last):\n",
      "  File \"C:\\Users\\mulaab\\miniconda3\\lib\\site-packages\\rpy2\\rinterface_lib\\callbacks.py\", line 133, in _consolewrite_ex\n",
      "    s = conversion._cchar_to_str_with_maxlen(buf, n, _CCHAR_ENCODING)\n",
      "  File \"C:\\Users\\mulaab\\miniconda3\\lib\\site-packages\\rpy2\\rinterface_lib\\conversion.py\", line 138, in _cchar_to_str_with_maxlen\n",
      "    s = ffi.string(c, maxlen).decode(encoding)\n",
      "UnicodeDecodeError: 'utf-8' codec can't decode byte 0xff in position 4: invalid start byte\n",
      "From cffi callback <function _consolewrite_ex at 0x038D7078>:\n",
      "Traceback (most recent call last):\n",
      "  File \"C:\\Users\\mulaab\\miniconda3\\lib\\site-packages\\rpy2\\rinterface_lib\\callbacks.py\", line 133, in _consolewrite_ex\n",
      "    s = conversion._cchar_to_str_with_maxlen(buf, n, _CCHAR_ENCODING)\n",
      "  File \"C:\\Users\\mulaab\\miniconda3\\lib\\site-packages\\rpy2\\rinterface_lib\\conversion.py\", line 138, in _cchar_to_str_with_maxlen\n",
      "    s = ffi.string(c, maxlen).decode(encoding)\n",
      "UnicodeDecodeError: 'utf-8' codec can't decode byte 0xff in position 4: invalid start byte\n",
      "From cffi callback <function _consolewrite_ex at 0x038D7078>:\n",
      "Traceback (most recent call last):\n",
      "  File \"C:\\Users\\mulaab\\miniconda3\\lib\\site-packages\\rpy2\\rinterface_lib\\callbacks.py\", line 133, in _consolewrite_ex\n",
      "    s = conversion._cchar_to_str_with_maxlen(buf, n, _CCHAR_ENCODING)\n",
      "  File \"C:\\Users\\mulaab\\miniconda3\\lib\\site-packages\\rpy2\\rinterface_lib\\conversion.py\", line 138, in _cchar_to_str_with_maxlen\n",
      "    s = ffi.string(c, maxlen).decode(encoding)\n",
      "UnicodeDecodeError: 'utf-8' codec can't decode byte 0xff in position 4: invalid start byte\n",
      "From cffi callback <function _consolewrite_ex at 0x038D7078>:\n",
      "Traceback (most recent call last):\n",
      "  File \"C:\\Users\\mulaab\\miniconda3\\lib\\site-packages\\rpy2\\rinterface_lib\\callbacks.py\", line 133, in _consolewrite_ex\n",
      "    s = conversion._cchar_to_str_with_maxlen(buf, n, _CCHAR_ENCODING)\n",
      "  File \"C:\\Users\\mulaab\\miniconda3\\lib\\site-packages\\rpy2\\rinterface_lib\\conversion.py\", line 138, in _cchar_to_str_with_maxlen\n",
      "    s = ffi.string(c, maxlen).decode(encoding)\n",
      "UnicodeDecodeError: 'utf-8' codec can't decode byte 0xff in position 4: invalid start byte\n",
      "From cffi callback <function _consolewrite_ex at 0x038D7078>:\n",
      "Traceback (most recent call last):\n",
      "  File \"C:\\Users\\mulaab\\miniconda3\\lib\\site-packages\\rpy2\\rinterface_lib\\callbacks.py\", line 133, in _consolewrite_ex\n",
      "    s = conversion._cchar_to_str_with_maxlen(buf, n, _CCHAR_ENCODING)\n",
      "  File \"C:\\Users\\mulaab\\miniconda3\\lib\\site-packages\\rpy2\\rinterface_lib\\conversion.py\", line 138, in _cchar_to_str_with_maxlen\n",
      "    s = ffi.string(c, maxlen).decode(encoding)\n",
      "UnicodeDecodeError: 'utf-8' codec can't decode byte 0xff in position 2: invalid start byte\n",
      "From cffi callback <function _consolewrite_ex at 0x038D7078>:\n",
      "Traceback (most recent call last):\n",
      "  File \"C:\\Users\\mulaab\\miniconda3\\lib\\site-packages\\rpy2\\rinterface_lib\\callbacks.py\", line 133, in _consolewrite_ex\n",
      "    s = conversion._cchar_to_str_with_maxlen(buf, n, _CCHAR_ENCODING)\n",
      "  File \"C:\\Users\\mulaab\\miniconda3\\lib\\site-packages\\rpy2\\rinterface_lib\\conversion.py\", line 138, in _cchar_to_str_with_maxlen\n",
      "    s = ffi.string(c, maxlen).decode(encoding)\n",
      "UnicodeDecodeError: 'utf-8' codec can't decode byte 0xff in position 2: invalid start byte\n",
      "From cffi callback <function _consolewrite_ex at 0x038D7078>:\n",
      "Traceback (most recent call last):\n",
      "  File \"C:\\Users\\mulaab\\miniconda3\\lib\\site-packages\\rpy2\\rinterface_lib\\callbacks.py\", line 133, in _consolewrite_ex\n",
      "    s = conversion._cchar_to_str_with_maxlen(buf, n, _CCHAR_ENCODING)\n",
      "  File \"C:\\Users\\mulaab\\miniconda3\\lib\\site-packages\\rpy2\\rinterface_lib\\conversion.py\", line 138, in _cchar_to_str_with_maxlen\n",
      "    s = ffi.string(c, maxlen).decode(encoding)\n",
      "UnicodeDecodeError: 'utf-8' codec can't decode byte 0xff in position 2: invalid start byte\n",
      "From cffi callback <function _consolewrite_ex at 0x038D7078>:\n",
      "Traceback (most recent call last):\n",
      "  File \"C:\\Users\\mulaab\\miniconda3\\lib\\site-packages\\rpy2\\rinterface_lib\\callbacks.py\", line 133, in _consolewrite_ex\n",
      "    s = conversion._cchar_to_str_with_maxlen(buf, n, _CCHAR_ENCODING)\n",
      "  File \"C:\\Users\\mulaab\\miniconda3\\lib\\site-packages\\rpy2\\rinterface_lib\\conversion.py\", line 138, in _cchar_to_str_with_maxlen\n",
      "    s = ffi.string(c, maxlen).decode(encoding)\n",
      "UnicodeDecodeError: 'utf-8' codec can't decode byte 0xff in position 2: invalid start byte\n",
      "From cffi callback <function _consolewrite_ex at 0x038D7078>:\n",
      "Traceback (most recent call last):\n",
      "  File \"C:\\Users\\mulaab\\miniconda3\\lib\\site-packages\\rpy2\\rinterface_lib\\callbacks.py\", line 133, in _consolewrite_ex\n",
      "    s = conversion._cchar_to_str_with_maxlen(buf, n, _CCHAR_ENCODING)\n",
      "  File \"C:\\Users\\mulaab\\miniconda3\\lib\\site-packages\\rpy2\\rinterface_lib\\conversion.py\", line 138, in _cchar_to_str_with_maxlen\n",
      "    s = ffi.string(c, maxlen).decode(encoding)\n",
      "UnicodeDecodeError: 'utf-8' codec can't decode byte 0xff in position 3: invalid start byte\n",
      "From cffi callback <function _consolewrite_ex at 0x038D7078>:\n",
      "Traceback (most recent call last):\n",
      "  File \"C:\\Users\\mulaab\\miniconda3\\lib\\site-packages\\rpy2\\rinterface_lib\\callbacks.py\", line 133, in _consolewrite_ex\n",
      "    s = conversion._cchar_to_str_with_maxlen(buf, n, _CCHAR_ENCODING)\n",
      "  File \"C:\\Users\\mulaab\\miniconda3\\lib\\site-packages\\rpy2\\rinterface_lib\\conversion.py\", line 138, in _cchar_to_str_with_maxlen\n",
      "    s = ffi.string(c, maxlen).decode(encoding)\n",
      "UnicodeDecodeError: 'utf-8' codec can't decode byte 0xff in position 2: invalid start byte\n",
      "From cffi callback <function _consolewrite_ex at 0x038D7078>:\n",
      "Traceback (most recent call last):\n",
      "  File \"C:\\Users\\mulaab\\miniconda3\\lib\\site-packages\\rpy2\\rinterface_lib\\callbacks.py\", line 133, in _consolewrite_ex\n",
      "    s = conversion._cchar_to_str_with_maxlen(buf, n, _CCHAR_ENCODING)\n",
      "  File \"C:\\Users\\mulaab\\miniconda3\\lib\\site-packages\\rpy2\\rinterface_lib\\conversion.py\", line 138, in _cchar_to_str_with_maxlen\n",
      "    s = ffi.string(c, maxlen).decode(encoding)\n",
      "UnicodeDecodeError: 'utf-8' codec can't decode byte 0xff in position 4: invalid start byte\n",
      "From cffi callback <function _consolewrite_ex at 0x038D7078>:\n",
      "Traceback (most recent call last):\n",
      "  File \"C:\\Users\\mulaab\\miniconda3\\lib\\site-packages\\rpy2\\rinterface_lib\\callbacks.py\", line 133, in _consolewrite_ex\n",
      "    s = conversion._cchar_to_str_with_maxlen(buf, n, _CCHAR_ENCODING)\n",
      "  File \"C:\\Users\\mulaab\\miniconda3\\lib\\site-packages\\rpy2\\rinterface_lib\\conversion.py\", line 138, in _cchar_to_str_with_maxlen\n",
      "    s = ffi.string(c, maxlen).decode(encoding)\n",
      "UnicodeDecodeError: 'utf-8' codec can't decode byte 0xff in position 6: invalid start byte\n",
      "From cffi callback <function _consolewrite_ex at 0x038D7078>:\n",
      "Traceback (most recent call last):\n",
      "  File \"C:\\Users\\mulaab\\miniconda3\\lib\\site-packages\\rpy2\\rinterface_lib\\callbacks.py\", line 133, in _consolewrite_ex\n",
      "    s = conversion._cchar_to_str_with_maxlen(buf, n, _CCHAR_ENCODING)\n",
      "  File \"C:\\Users\\mulaab\\miniconda3\\lib\\site-packages\\rpy2\\rinterface_lib\\conversion.py\", line 138, in _cchar_to_str_with_maxlen\n",
      "    s = ffi.string(c, maxlen).decode(encoding)\n",
      "UnicodeDecodeError: 'utf-8' codec can't decode byte 0xff in position 4: invalid start byte\n",
      "From cffi callback <function _consolewrite_ex at 0x038D7078>:\n",
      "Traceback (most recent call last):\n",
      "  File \"C:\\Users\\mulaab\\miniconda3\\lib\\site-packages\\rpy2\\rinterface_lib\\callbacks.py\", line 133, in _consolewrite_ex\n",
      "    s = conversion._cchar_to_str_with_maxlen(buf, n, _CCHAR_ENCODING)\n",
      "  File \"C:\\Users\\mulaab\\miniconda3\\lib\\site-packages\\rpy2\\rinterface_lib\\conversion.py\", line 138, in _cchar_to_str_with_maxlen\n",
      "    s = ffi.string(c, maxlen).decode(encoding)\n",
      "UnicodeDecodeError: 'utf-8' codec can't decode byte 0xff in position 4: invalid start byte\n",
      "From cffi callback <function _consolewrite_ex at 0x038D7078>:\n",
      "Traceback (most recent call last):\n",
      "  File \"C:\\Users\\mulaab\\miniconda3\\lib\\site-packages\\rpy2\\rinterface_lib\\callbacks.py\", line 133, in _consolewrite_ex\n",
      "    s = conversion._cchar_to_str_with_maxlen(buf, n, _CCHAR_ENCODING)\n",
      "  File \"C:\\Users\\mulaab\\miniconda3\\lib\\site-packages\\rpy2\\rinterface_lib\\conversion.py\", line 138, in _cchar_to_str_with_maxlen\n",
      "    s = ffi.string(c, maxlen).decode(encoding)\n",
      "UnicodeDecodeError: 'utf-8' codec can't decode byte 0xff in position 2: invalid start byte\n",
      "From cffi callback <function _consolewrite_ex at 0x038D7078>:\n",
      "Traceback (most recent call last):\n",
      "  File \"C:\\Users\\mulaab\\miniconda3\\lib\\site-packages\\rpy2\\rinterface_lib\\callbacks.py\", line 133, in _consolewrite_ex\n",
      "    s = conversion._cchar_to_str_with_maxlen(buf, n, _CCHAR_ENCODING)\n",
      "  File \"C:\\Users\\mulaab\\miniconda3\\lib\\site-packages\\rpy2\\rinterface_lib\\conversion.py\", line 138, in _cchar_to_str_with_maxlen\n",
      "    s = ffi.string(c, maxlen).decode(encoding)\n",
      "UnicodeDecodeError: 'utf-8' codec can't decode byte 0xff in position 2: invalid start byte\n",
      "From cffi callback <function _consolewrite_ex at 0x038D7078>:\n",
      "Traceback (most recent call last):\n",
      "  File \"C:\\Users\\mulaab\\miniconda3\\lib\\site-packages\\rpy2\\rinterface_lib\\callbacks.py\", line 133, in _consolewrite_ex\n",
      "    s = conversion._cchar_to_str_with_maxlen(buf, n, _CCHAR_ENCODING)\n",
      "  File \"C:\\Users\\mulaab\\miniconda3\\lib\\site-packages\\rpy2\\rinterface_lib\\conversion.py\", line 138, in _cchar_to_str_with_maxlen\n",
      "    s = ffi.string(c, maxlen).decode(encoding)\n",
      "UnicodeDecodeError: 'utf-8' codec can't decode byte 0xff in position 4: invalid start byte\n",
      "From cffi callback <function _consolewrite_ex at 0x038D7078>:\n",
      "Traceback (most recent call last):\n",
      "  File \"C:\\Users\\mulaab\\miniconda3\\lib\\site-packages\\rpy2\\rinterface_lib\\callbacks.py\", line 133, in _consolewrite_ex\n",
      "    s = conversion._cchar_to_str_with_maxlen(buf, n, _CCHAR_ENCODING)\n",
      "  File \"C:\\Users\\mulaab\\miniconda3\\lib\\site-packages\\rpy2\\rinterface_lib\\conversion.py\", line 138, in _cchar_to_str_with_maxlen\n",
      "    s = ffi.string(c, maxlen).decode(encoding)\n",
      "UnicodeDecodeError: 'utf-8' codec can't decode byte 0xff in position 6: invalid start byte\n",
      "From cffi callback <function _consolewrite_ex at 0x038D7078>:\n",
      "Traceback (most recent call last):\n",
      "  File \"C:\\Users\\mulaab\\miniconda3\\lib\\site-packages\\rpy2\\rinterface_lib\\callbacks.py\", line 133, in _consolewrite_ex\n",
      "    s = conversion._cchar_to_str_with_maxlen(buf, n, _CCHAR_ENCODING)\n",
      "  File \"C:\\Users\\mulaab\\miniconda3\\lib\\site-packages\\rpy2\\rinterface_lib\\conversion.py\", line 138, in _cchar_to_str_with_maxlen\n",
      "    s = ffi.string(c, maxlen).decode(encoding)\n",
      "UnicodeDecodeError: 'utf-8' codec can't decode byte 0xff in position 4: invalid start byte\n",
      "From cffi callback <function _consolewrite_ex at 0x038D7078>:\n",
      "Traceback (most recent call last):\n",
      "  File \"C:\\Users\\mulaab\\miniconda3\\lib\\site-packages\\rpy2\\rinterface_lib\\callbacks.py\", line 133, in _consolewrite_ex\n",
      "    s = conversion._cchar_to_str_with_maxlen(buf, n, _CCHAR_ENCODING)\n",
      "  File \"C:\\Users\\mulaab\\miniconda3\\lib\\site-packages\\rpy2\\rinterface_lib\\conversion.py\", line 138, in _cchar_to_str_with_maxlen\n",
      "    s = ffi.string(c, maxlen).decode(encoding)\n",
      "UnicodeDecodeError: 'utf-8' codec can't decode byte 0xff in position 4: invalid start byte\n",
      "From cffi callback <function _consolewrite_ex at 0x038D7078>:\n",
      "Traceback (most recent call last):\n",
      "  File \"C:\\Users\\mulaab\\miniconda3\\lib\\site-packages\\rpy2\\rinterface_lib\\callbacks.py\", line 133, in _consolewrite_ex\n",
      "    s = conversion._cchar_to_str_with_maxlen(buf, n, _CCHAR_ENCODING)\n",
      "  File \"C:\\Users\\mulaab\\miniconda3\\lib\\site-packages\\rpy2\\rinterface_lib\\conversion.py\", line 138, in _cchar_to_str_with_maxlen\n",
      "    s = ffi.string(c, maxlen).decode(encoding)\n",
      "UnicodeDecodeError: 'utf-8' codec can't decode byte 0xff in position 2: invalid start byte\n"
     ]
    },
    {
     "name": "stdout",
     "output_type": "stream",
     "text": [
      "\n"
     ]
    },
    {
     "data": {
      "image/png": "[encoded data removed]"
     },
     "metadata": {},
     "output_type": "display_data"
    },
    {
     "name": "stdout",
     "output_type": "stream",
     "text": [
      "v1 is: [10.]\n",
      "v2 is: [10.]\n"
     ]
    }
   ],
   "source": [
    "from __future__ import print_function\n",
    "v1 = %R plot(X,Y); print(summary(lm(Y~X))); vv=mean(X)*mean(Y)\n",
    "print('v1 is:', v1)\n",
    "v2 = %R mean(X)*mean(Y)\n",
    "print('v2 is:', v2)"
   ]
  },
  {
   "cell_type": "code",
   "execution_count": 29,
   "id": "faff772a-0a9b-4a7e-8c04-7ab5f3d6c354",
   "metadata": {},
   "outputs": [
    {
     "data": {
      "image/png": "[encoded data removed]"
     },
     "metadata": {},
     "output_type": "display_data"
    }
   ],
   "source": [
    "v = %R plot(X,Y)\n",
    "assert v == None"
   ]
  },
  {
   "cell_type": "code",
   "execution_count": null,
   "id": "40c85c76-02a2-491e-923e-fa0222c35708",
   "metadata": {},
   "outputs": [],
   "source": []
  }
 ],
 "metadata": {
  "kernelspec": {
   "display_name": "Python 3 (ipykernel)",
   "language": "python",
   "name": "python3"
  },
  "language_info": {
   "codemirror_mode": {
    "name": "ipython",
    "version": 3
   },
   "file_extension": ".py",
   "mimetype": "text/x-python",
   "name": "python",
   "nbconvert_exporter": "python",
   "pygments_lexer": "ipython3",
   "version": "3.7.6"
  }
 },
 "nbformat": 4,
 "nbformat_minor": 5
}
