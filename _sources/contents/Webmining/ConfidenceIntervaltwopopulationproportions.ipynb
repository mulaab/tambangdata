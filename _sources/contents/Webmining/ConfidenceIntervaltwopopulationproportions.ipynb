{
 "cells": [
  {
   "cell_type": "markdown",
   "metadata": {},
   "source": [
    "# Interval Kepercayaan untuk selisih antara dua Proporsi\n",
    "\n",
    "Seandainya anda ingin menghitung selisih antaraproporsi pria dan wanita yang mendukung gagasan bahwa minggu kerja seharusnya hanya 3 hari, bukan 5.\n",
    "Seandainya anda ingin mengestimas selisih antara populasi laki dan perempuan $ p_m -p_w$. Anda dapat pmengambil secara acak setiap populasi dan menggunakan selisih antara dua sample populasi $\\hat p_m-\\hat p_w$ plus atau minus margin error yang dapat dinyatakan dengan persamaan berikut:\n",
    "\n",
    "$$\n",
    "\\widehat{p_{m}}-\\widehat{p_{w}} \\pm \\mathrm{z} * \\sqrt{\\frac{\\widehat{p_{m}}\\left(1-\\widehat{p}_{m}\\right)}{n_{m}}+\\frac{\\widehat{p_{w}}\\left(1-\\widehat{p_{w}}\\right)}{n_{w}}}\n",
    "$$\n",
    "\n",
    "\n",
    "karena kita tahu dari sebelumnya  $z$ dapat dihtunga tabel $z$ , yang sama dengan 1.96 dalam kasus interval kepercayaan 95 persen.  Marilah diskripsi diatas kita gunakan python untuk implementasinya dengan menetapkan parameter paramternya."
   ]
  },
  {
   "cell_type": "code",
   "execution_count": 4,
   "metadata": {},
   "outputs": [],
   "source": [
    "import numpy as np"
   ]
  },
  {
   "cell_type": "code",
   "execution_count": 5,
   "metadata": {},
   "outputs": [],
   "source": [
    "p_m = 0.64\n",
    "p_w = 0.43\n",
    "n_m = 100\n",
    "n_w = 120\n",
    "z_value = 1.96"
   ]
  },
  {
   "cell_type": "markdown",
   "metadata": {},
   "source": [
    "Kita tentukan selisih antara rata-ratanya."
   ]
  },
  {
   "cell_type": "code",
   "execution_count": 6,
   "metadata": {},
   "outputs": [],
   "source": [
    "difference = p_m - p_w\n",
    "first_term = (p_m* (1-p_m))/n_m\n",
    "second_term = (p_w*(1-p_w))/n_w"
   ]
  },
  {
   "cell_type": "markdown",
   "metadata": {},
   "source": [
    "Dan kita hitung batas atas dan batas bawah menggunakan persamaan diatas "
   ]
  },
  {
   "cell_type": "code",
   "execution_count": 7,
   "metadata": {},
   "outputs": [
    {
     "data": {
      "text/plain": [
       "(0.0807811375998071, 0.33921886240019294)"
      ]
     },
     "execution_count": 7,
     "metadata": {},
     "output_type": "execute_result"
    }
   ],
   "source": [
    "lower_bound = difference - (z_value*(np.sqrt(first_term + second_term)))\n",
    "upper_bound = difference + (z_value*(np.sqrt(first_term + second_term)))\n",
    "lower_bound,upper_bound"
   ]
  },
  {
   "cell_type": "markdown",
   "metadata": {},
   "source": [
    "Selisih $  p_m - p_w$ adalah **0.210**\n",
    "\n",
    "Kita dapat menafsirkan hasilnya dengan mengatakan dengan 95 persen\n",
    "keyakinan bahwa persentase pria lebih tinggi daripada wanita\n",
    "mendukung minggu kerja 3 hari, dan ada perbedaan diantaranya"
   ]
  },
  {
   "cell_type": "markdown",
   "metadata": {},
   "source": [
    "# Distribusi t dan Interval kepercayaan\n",
    "\n",
    "Pada bab ini kita telah mengasumsikan distribusi normal. Tetapi sekarang, mari kita bahas distribusi lain yang umum ditemukan yang disebut, distribusi t.  Selainjuga dikenal sebagai Student-Distribution,  distritbusi t adalah distribusi probabilitas yang memiliki ekor lebih berat dari distribusi normal,\n",
    "yang memberi ruang bagi nilai-nilai yang lebih ekstrem untuk ditemukan\n",
    "\n",
    "Selama ini, kami telah menggunakan z-score dan\n",
    "tabel-z. Namun, kita harus tahu bahwa untuk menghitung\n",
    "z-score, kita perlu mengetahui standar deviasi yang sebenarnya,\n",
    "yang biasanya tidak diketahui. Jadi, kita hanya ingin menegaskan  bahwa semua perhitungan yang yang dilakukan menggunakan StatsModels didasarkan pada distribusi-t "
   ]
  },
  {
   "cell_type": "code",
   "execution_count": null,
   "metadata": {},
   "outputs": [],
   "source": []
  }
 ],
 "metadata": {
  "kernelspec": {
   "display_name": "Python 3 (ipykernel)",
   "language": "python",
   "name": "python3"
  },
  "language_info": {
   "codemirror_mode": {
    "name": "ipython",
    "version": 3
   },
   "file_extension": ".py",
   "mimetype": "text/x-python",
   "name": "python",
   "nbconvert_exporter": "python",
   "pygments_lexer": "ipython3",
   "version": "3.7.6"
  }
 },
 "nbformat": 4,
 "nbformat_minor": 4
}
