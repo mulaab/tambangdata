{
 "cells": [
  {
   "cell_type": "markdown",
   "id": "85d5b600-57c1-4402-9356-51376aadb1be",
   "metadata": {},
   "source": [
    "# Chi-square menggunakan R"
   ]
  },
  {
   "cell_type": "code",
   "execution_count": 5,
   "id": "89518759-2fee-49b2-8adc-85b747d897ae",
   "metadata": {},
   "outputs": [
    {
     "name": "stderr",
     "output_type": "stream",
     "text": [
      "Warning message:\n",
      "\"package 'magrittr' was built under R version 4.1.3\"\n"
     ]
    },
    {
     "ename": "ERROR",
     "evalue": "Error in select(iris, Petal.Length, Species): could not find function \"select\"\n",
     "output_type": "error",
     "traceback": [
      "Error in select(iris, Petal.Length, Species): could not find function \"select\"\nTraceback:\n",
      "1. select(iris, Petal.Length, Species) %>% filter(Species == \"setosa\")",
      "2. filter(., Species == \"setosa\")",
      "3. as.ts(x)"
     ]
    }
   ],
   "source": [
    "library(\"magrittr\")\n",
    "df <-  select(iris, Petal.Length, Species) %>% filter(Species == \"setosa\")\n",
    "ggplot(data = df, aes(x = Petal.Length, fill = Species)) + geom_histogram(binwidth = 0.1) + geom_vline(aes(xintercept = 1.462, linetype = \"mean\"))  + geom_vline(aes(xintercept = 1.114672, linetype = \"mean - 2sd\")) + scale_linetype_manual(values = c(1, 10), name = \"Sample stats\") + xlab(\"Petal Length [cm]\") + ylab(\"Count\") + theme_ur\n"
   ]
  },
  {
   "cell_type": "code",
   "execution_count": 3,
   "id": "27da3082-7694-4da5-986c-738b66e22f1a",
   "metadata": {},
   "outputs": [
    {
     "ename": "ERROR",
     "evalue": "Error in trees %>% arrange(Height) %>% summarise(heights = list(Height)): could not find function \"%>%\"\n",
     "output_type": "error",
     "traceback": [
      "Error in trees %>% arrange(Height) %>% summarise(heights = list(Height)): could not find function \"%>%\"\nTraceback:\n"
     ]
    }
   ],
   "source": [
    "dattab <- trees %>%\n",
    "  arrange(Height) %>%\n",
    "  summarise(heights = list(Height))\n",
    "kbl(dattab, col.names = c(\"Height [in]\"), caption = \"Observations of $m = 31$ felled black cherry trees.\", booktabs = T) %>%\n",
    " kable_styling(latex_options = c(\"striped\", \"hold_position\")) %>%\n",
    "  column_spec(1, width = \"150mm\")\n"
   ]
  },
  {
   "cell_type": "code",
   "execution_count": null,
   "id": "765ff037-0898-4f6d-9b4d-fdfc5fb327a2",
   "metadata": {},
   "outputs": [],
   "source": []
  }
 ],
 "metadata": {
  "kernelspec": {
   "display_name": "R",
   "language": "R",
   "name": "ir"
  },
  "language_info": {
   "codemirror_mode": "r",
   "file_extension": ".r",
   "mimetype": "text/x-r-source",
   "name": "R",
   "pygments_lexer": "r",
   "version": "4.1.2"
  }
 },
 "nbformat": 4,
 "nbformat_minor": 5
}
