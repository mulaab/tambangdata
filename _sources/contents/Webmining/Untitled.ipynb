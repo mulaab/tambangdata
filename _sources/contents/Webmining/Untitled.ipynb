{
 "cells": [
  {
   "cell_type": "code",
   "execution_count": 2,
   "id": "25133148-febe-4369-980a-79640358814c",
   "metadata": {},
   "outputs": [
    {
     "name": "stderr",
     "output_type": "stream",
     "text": [
      "Loading required package: lsr\n",
      "\n",
      "Warning message in library(package, lib.loc = lib.loc, character.only = TRUE, logical.return = TRUE, :\n",
      "\"there is no package called 'lsr'\"\n"
     ]
    },
    {
     "ename": "ERROR",
     "evalue": "Error in ciMean(x): could not find function \"ciMean\"\n",
     "output_type": "error",
     "traceback": [
      "Error in ciMean(x): could not find function \"ciMean\"\nTraceback:\n"
     ]
    }
   ],
   "source": [
    "require(lsr)\n",
    "emphColLight <- rgb(.5,.5,1)\n",
    "emphCol <- rgb(0,0,1)\n",
    "\n",
    "means <- vector()\n",
    "cilow <- vector()\n",
    "cihigh <- vector()\n",
    "N <- 50\n",
    "nn <- 25\n",
    "for( i in 1:N ) {\n",
    "  x <- rnorm(nn,100,15)\n",
    "  means[i] <- mean(x)\n",
    "  ci <- ciMean(x)\n",
    "  cilow[i] <- ci[1]\n",
    "  cihigh[i] <- ci[2]\n",
    "}"
   ]
  },
  {
   "cell_type": "code",
   "execution_count": null,
   "id": "a988138a-6729-4425-9059-7792cac73ae7",
   "metadata": {},
   "outputs": [],
   "source": []
  }
 ],
 "metadata": {
  "kernelspec": {
   "display_name": "R",
   "language": "R",
   "name": "ir"
  },
  "language_info": {
   "codemirror_mode": "r",
   "file_extension": ".r",
   "mimetype": "text/x-r-source",
   "name": "R",
   "pygments_lexer": "r",
   "version": "4.1.2"
  }
 },
 "nbformat": 4,
 "nbformat_minor": 5
}
