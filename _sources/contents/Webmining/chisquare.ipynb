{
 "cells": [
  {
   "cell_type": "code",
   "execution_count": 3,
   "metadata": {},
   "outputs": [],
   "source": [
    "# code for loading the format for the notebook\n",
    "import os\n",
    "\n",
    "# path : store the current path to convert back to it later\n",
    "path = os.getcwd()\n",
    "#os.chdir(os.path.join('..', 'notebook_format'))\n",
    "\n"
   ]
  },
  {
   "cell_type": "code",
   "execution_count": 4,
   "metadata": {},
   "outputs": [],
   "source": [
    "os.chdir(path)\n",
    "import numpy as np\n",
    "import pandas as pd\n",
    "\n",
    "# 1. magic to print version\n",
    "# 2. magic so that the notebook will reload external python modules\n",
    "%load_ext watermark\n",
    "%load_ext autoreload \n",
    "%autoreload 2\n",
    "\n",
    "from sklearn.preprocessing import LabelBinarizer\n",
    "from sklearn.feature_selection import chi2, SelectKBest\n",
    "from sklearn.feature_extraction.text import CountVectorizer\n",
    "\n",
    "#%watermark -a 'Mulaab' -d -t -v -p numpy,pandas,sklearn"
   ]
  },
  {
   "cell_type": "markdown",
   "metadata": {},
   "source": [
    "# Implementasi Seleksi fitur Chi-Square "
   ]
  },
  {
   "cell_type": "markdown",
   "metadata": {},
   "source": [
    "Seleksi fitur adalah proses dimana secara automatis memilih fitur tersebut pada data anda yang berpengaruh terhadap variabel prediksi atau ouput yang diharapakan. Keuntungan melakukan seleksi fitur sebelum melakukan pemodelan data anda adalah:\n",
    "1. Menghindari overfitting: Data yang lebih sedikit memberikan peningkatan kinerja pada model dan sediti menghasilkan  sedikit peluang untuk membuat keputusan salah\n",
    "2. Mengurangi waktu pelatihan. Data yang lebih sedikit berarti algoritma pelatihan semakin cepat\n",
    "\n",
    "\n"
   ]
  },
  {
   "cell_type": "code",
   "execution_count": 11,
   "metadata": {},
   "outputs": [
    {
     "data": {
      "text/html": [
       "<div>\n",
       "<style scoped>\n",
       "    .dataframe tbody tr th:only-of-type {\n",
       "        vertical-align: middle;\n",
       "    }\n",
       "\n",
       "    .dataframe tbody tr th {\n",
       "        vertical-align: top;\n",
       "    }\n",
       "\n",
       "    .dataframe thead th {\n",
       "        text-align: right;\n",
       "    }\n",
       "</style>\n",
       "<table border=\"1\" class=\"dataframe\">\n",
       "  <thead>\n",
       "    <tr style=\"text-align: right;\">\n",
       "      <th></th>\n",
       "      <th>makan</th>\n",
       "      <th>nasi</th>\n",
       "      <th>panas</th>\n",
       "      <th>pecel</th>\n",
       "      <th>saya</th>\n",
       "      <th>soto</th>\n",
       "      <th>warung</th>\n",
       "    </tr>\n",
       "  </thead>\n",
       "  <tbody>\n",
       "    <tr>\n",
       "      <th>0</th>\n",
       "      <td>1</td>\n",
       "      <td>1</td>\n",
       "      <td>0</td>\n",
       "      <td>0</td>\n",
       "      <td>0</td>\n",
       "      <td>1</td>\n",
       "      <td>0</td>\n",
       "    </tr>\n",
       "    <tr>\n",
       "      <th>1</th>\n",
       "      <td>0</td>\n",
       "      <td>1</td>\n",
       "      <td>1</td>\n",
       "      <td>0</td>\n",
       "      <td>0</td>\n",
       "      <td>1</td>\n",
       "      <td>0</td>\n",
       "    </tr>\n",
       "    <tr>\n",
       "      <th>2</th>\n",
       "      <td>0</td>\n",
       "      <td>1</td>\n",
       "      <td>0</td>\n",
       "      <td>0</td>\n",
       "      <td>0</td>\n",
       "      <td>1</td>\n",
       "      <td>1</td>\n",
       "    </tr>\n",
       "    <tr>\n",
       "      <th>3</th>\n",
       "      <td>1</td>\n",
       "      <td>1</td>\n",
       "      <td>0</td>\n",
       "      <td>1</td>\n",
       "      <td>1</td>\n",
       "      <td>0</td>\n",
       "      <td>0</td>\n",
       "    </tr>\n",
       "  </tbody>\n",
       "</table>\n",
       "</div>"
      ],
      "text/plain": [
       "   makan  nasi  panas  pecel  saya  soto  warung\n",
       "0      1     1      0      0     0     1       0\n",
       "1      0     1      1      0     0     1       0\n",
       "2      0     1      0      0     0     1       1\n",
       "3      1     1      0      1     1     0       0"
      ]
     },
     "execution_count": 11,
     "metadata": {},
     "output_type": "execute_result"
    }
   ],
   "source": [
    "# misal kita memiliki data text berikut\n",
    "X = np.array(['makan nasi soto', 'nasi soto panas', 'warung nasi soto', 'saya makan nasi pecel'])\n",
    "y = [1, 1, 2, 0]\n",
    "\n",
    "# kita akan merubah teks tersebut menjadi matrik dokumen-term,\n",
    "# dan kita  mencetak output yang mudah dibaca\n",
    "vect = CountVectorizer()\n",
    "X_dtm = vect.fit_transform(X)\n",
    "X_dtm = X_dtm.toarray()\n",
    "X_dtm\n",
    "datane=pd.DataFrame(X_dtm, columns = vect.get_feature_names())\n",
    "X_dtm.shape\n",
    "datane"
   ]
  },
  {
   "cell_type": "markdown",
   "metadata": {},
   "source": [
    "Jika kita menambahkan dengan kelas dari masing masing dokumen diperoleh data seperti berikut\n",
    "\n",
    "|      | makan| nasi | panas| pecel| saya   | soto    |warung| Kelas |\n",
    "| ---- | ---- | ---- | ---- | ---- | ------ | ------- | ---- | ----- |\n",
    "| 0    | 1    | 1    | 0    | 0    | 0      | 1       | 0    | 1     |\n",
    "| 1    | 0    | 1    | 1    | 0    | 0      | 1       | 0    | 1     |\n",
    "| 2    | 0    | 1    | 0    | 0    | 0      | 1       | 1    | 2     |\n",
    "| 3    | 1    | 1    | 0    | 1    | 1      | 0       | 0    | 0     |\n",
    "\n",
    "\n"
   ]
  },
  {
   "cell_type": "markdown",
   "metadata": {},
   "source": [
    "\n",
    "Salah satu metode seleksi fitur yang bias digunakan pada data teks adalah seleksi fitur Chi-Square.Uji $\\chi^2$ digunakan pada statistik untuk menguji independensi dari dua kejadian (variabel) Khususnya dalam seleksi fitur, metode tersebut digunakan untuk menguji apakah suatu term tertentu yang ada dan kelas tertentu yang ada adalah saling bebas.Secara umum dari dokumen $D$ yang tersedia, kita hitung nilai-nilai berikut untuk setiap term dan merangking tersebut sesuai dengan skor masing-masing\n",
    "\n",
    "$$\n",
    "\\chi^2(O, t, c) = \\sum_{e_t \\in \\{0, 1\\}} \\sum_{e_c \\in \\{0, 1\\}} \n",
    "\\frac{ ( O_{e_te_c} - E_{e_te_c} )^2 }{ E_{e_te_c} }$$\n",
    "\n",
    "dimana\n",
    "\n",
    "- $N$ adalah  frekwensi pengamatan dan $E$ adalah frekwensi harapan\n",
    "- $e_t$ akan bernilai 1 jika dokumen berisi  term $t$ dan 0 jika sebaliknya\n",
    "- $e_c$ akan bernilai 1 jika dokumen dalam kelas $c$ dan  0 jika sebaliknya\n",
    "\n",
    "Untuk setiap feature (term), jika memilki score $\\chi^2$ tinggi maka menunjukkan  hipotesa null  $H_0$ (independence) "
   ]
  },
  {
   "cell_type": "markdown",
   "metadata": {},
   "source": [
    "## Implementasi"
   ]
  },
  {
   "cell_type": "markdown",
   "metadata": {},
   "source": [
    "Kita pertama menghitung jumlah pengamatan pada masing-masing kelas. Dalam hal dilakukan dengan membuat tabel contingency dari input $X$ (nilai nilai feature ) dan $y$ (label kelas). Setiap masukan $i$, $j$ menyatakan fitur $i$ dan kelas  $j$, dan menghitung jumlah nilai fitur ke $i$ dari semua sample yang menjadi anggota kelas $j$.\n",
    "\n",
    "Perhatikan bahwa walaupun nilai fitur disini dinyatakan sebagai frekwensi, metode ini juga bekerja dengan baik ketika nilainya adalah nilai tf-idf, karena nilai tf-idf juga merupakan bobot/skala dari frekwensi"
   ]
  },
  {
   "cell_type": "code",
   "execution_count": 12,
   "metadata": {},
   "outputs": [
    {
     "name": "stdout",
     "output_type": "stream",
     "text": [
      "[[0 1 0]\n",
      " [0 1 0]\n",
      " [0 0 1]\n",
      " [1 0 0]]\n",
      "\n",
      "[[1 1 0 1 1 0 0]\n",
      " [1 2 1 0 0 2 0]\n",
      " [0 1 0 0 0 1 1]]\n"
     ]
    }
   ],
   "source": [
    "# binarisasi kolom output ,\n",
    "# disini menghitung nilai pengamatan dengan perkalian titik\n",
    "\n",
    "y_binarized = LabelBinarizer().fit_transform(y)\n",
    "print(y_binarized)\n",
    "print()\n",
    "\n",
    "# baris menunjukkan jumlah pengamatan setiap kelas\n",
    "# dan kolom menunjukkan setiap fitur\n",
    "observed = np.dot(y_binarized.T, X_dtm)\n",
    "print(observed)"
   ]
  },
  {
   "cell_type": "markdown",
   "metadata": {},
   "source": [
    "misalkan. beris kedua dari rangkaian pengamatan diatas menujukkan total jumlah dari term-term yang menjadi kelas 1. Kemudian kita menghitung frekwensi harapan dari setiap term pada masing masing kelas"
   ]
  },
  {
   "cell_type": "code",
   "execution_count": 7,
   "metadata": {},
   "outputs": [
    {
     "name": "stdout",
     "output_type": "stream",
     "text": [
      "[[0.75 1.   0.25 0.25 0.25 0.75 0.25]\n",
      " [1.5  2.   0.5  0.5  0.5  1.5  0.5 ]\n",
      " [0.75 1.   0.25 0.25 0.25 0.75 0.25]]\n"
     ]
    }
   ],
   "source": [
    "# menghitung probabilitas setiap kelas dan jumlah fitur; \n",
    "# simpan keduanya sebagai array dua dimensi dengan menggunakan reshape\n",
    "class_prob = y_binarized.mean(axis = 0).reshape(1, -1)\n",
    "feature_count = X_dtm.sum(axis = 0).reshape(1, -1)\n",
    "expected = np.dot(class_prob.T, feature_count)\n",
    "\n",
    "print(expected)"
   ]
  },
  {
   "cell_type": "code",
   "execution_count": 224,
   "metadata": {},
   "outputs": [
    {
     "data": {
      "text/plain": [
       "array([[2, 4, 1, 1, 1, 3, 1]], dtype=int64)"
      ]
     },
     "execution_count": 224,
     "metadata": {},
     "output_type": "execute_result"
    }
   ],
   "source": [
    "feature_count"
   ]
  },
  {
   "cell_type": "code",
   "execution_count": 225,
   "metadata": {},
   "outputs": [
    {
     "name": "stdout",
     "output_type": "stream",
     "text": [
      "[1. 0. 1. 3. 3. 1. 3.]\n"
     ]
    }
   ],
   "source": [
    "chisq = (observed - expected) ** 2 / expected\n",
    "chisq_score = chisq.sum(axis = 0)\n",
    "print(chisq_score)"
   ]
  },
  {
   "cell_type": "markdown",
   "metadata": {},
   "source": [
    "Kita dapat membutktikan hasil kita dengan library scikit-learn menggunakan fungsi  `chi2`. Kode berikut menghitung nilai chi-square value untuk masing masing fitur. Dari sekumpulan nilai yang dihasilkan element pertama adalah skor chi-square , samakin baik sekor jika semakin besar nilainya dan elemen kedua adalah nilai p, nilai ini semakin baki jika semakin kecil."
   ]
  },
  {
   "cell_type": "code",
   "execution_count": 226,
   "metadata": {},
   "outputs": [],
   "source": [
    "chi2score = chi2(X_dtm, y)\n",
    "chi2score[0]\n",
    "chi2score[1]\n",
    "skorchi = np. reshape(chi2score[0], (1, 7))\n",
    "phisccore=np. reshape(chi2score[1], (1, 7))\n"
   ]
  },
  {
   "cell_type": "code",
   "execution_count": 227,
   "metadata": {},
   "outputs": [
    {
     "data": {
      "text/plain": [
       "array([0.60653066, 1.        , 0.60653066, 0.22313016, 0.22313016,\n",
       "       0.60653066, 0.22313016])"
      ]
     },
     "execution_count": 227,
     "metadata": {},
     "output_type": "execute_result"
    }
   ],
   "source": [
    "chi2score[1]"
   ]
  },
  {
   "cell_type": "code",
   "execution_count": 228,
   "metadata": {},
   "outputs": [],
   "source": [
    "datascore=pd.DataFrame(skorchi, columns = vect.get_feature_names())\n",
    "dataphi=pd.DataFrame(phisccore, columns = vect.get_feature_names())"
   ]
  },
  {
   "cell_type": "code",
   "execution_count": 229,
   "metadata": {},
   "outputs": [
    {
     "data": {
      "text/html": [
       "<div>\n",
       "<style scoped>\n",
       "    .dataframe tbody tr th:only-of-type {\n",
       "        vertical-align: middle;\n",
       "    }\n",
       "\n",
       "    .dataframe tbody tr th {\n",
       "        vertical-align: top;\n",
       "    }\n",
       "\n",
       "    .dataframe thead th {\n",
       "        text-align: right;\n",
       "    }\n",
       "</style>\n",
       "<table border=\"1\" class=\"dataframe\">\n",
       "  <thead>\n",
       "    <tr style=\"text-align: right;\">\n",
       "      <th></th>\n",
       "      <th>makan</th>\n",
       "      <th>nasi</th>\n",
       "      <th>panas</th>\n",
       "      <th>pecel</th>\n",
       "      <th>saya</th>\n",
       "      <th>soto</th>\n",
       "      <th>warung</th>\n",
       "    </tr>\n",
       "  </thead>\n",
       "  <tbody>\n",
       "    <tr>\n",
       "      <th>0</th>\n",
       "      <td>1.0</td>\n",
       "      <td>0.0</td>\n",
       "      <td>1.0</td>\n",
       "      <td>3.0</td>\n",
       "      <td>3.0</td>\n",
       "      <td>1.0</td>\n",
       "      <td>3.0</td>\n",
       "    </tr>\n",
       "  </tbody>\n",
       "</table>\n",
       "</div>"
      ],
      "text/plain": [
       "   makan  nasi  panas  pecel  saya  soto  warung\n",
       "0    1.0   0.0    1.0    3.0   3.0   1.0     3.0"
      ]
     },
     "execution_count": 229,
     "metadata": {},
     "output_type": "execute_result"
    }
   ],
   "source": [
    "datascore"
   ]
  },
  {
   "cell_type": "code",
   "execution_count": 230,
   "metadata": {},
   "outputs": [
    {
     "data": {
      "text/html": [
       "<div>\n",
       "<style scoped>\n",
       "    .dataframe tbody tr th:only-of-type {\n",
       "        vertical-align: middle;\n",
       "    }\n",
       "\n",
       "    .dataframe tbody tr th {\n",
       "        vertical-align: top;\n",
       "    }\n",
       "\n",
       "    .dataframe thead th {\n",
       "        text-align: right;\n",
       "    }\n",
       "</style>\n",
       "<table border=\"1\" class=\"dataframe\">\n",
       "  <thead>\n",
       "    <tr style=\"text-align: right;\">\n",
       "      <th></th>\n",
       "      <th>makan</th>\n",
       "      <th>nasi</th>\n",
       "      <th>panas</th>\n",
       "      <th>pecel</th>\n",
       "      <th>saya</th>\n",
       "      <th>soto</th>\n",
       "      <th>warung</th>\n",
       "    </tr>\n",
       "  </thead>\n",
       "  <tbody>\n",
       "    <tr>\n",
       "      <th>0</th>\n",
       "      <td>1.000000</td>\n",
       "      <td>0.0</td>\n",
       "      <td>1.000000</td>\n",
       "      <td>3.00000</td>\n",
       "      <td>3.00000</td>\n",
       "      <td>1.000000</td>\n",
       "      <td>3.00000</td>\n",
       "    </tr>\n",
       "    <tr>\n",
       "      <th>0</th>\n",
       "      <td>0.606531</td>\n",
       "      <td>1.0</td>\n",
       "      <td>0.606531</td>\n",
       "      <td>0.22313</td>\n",
       "      <td>0.22313</td>\n",
       "      <td>0.606531</td>\n",
       "      <td>0.22313</td>\n",
       "    </tr>\n",
       "  </tbody>\n",
       "</table>\n",
       "</div>"
      ],
      "text/plain": [
       "      makan  nasi     panas    pecel     saya      soto   warung\n",
       "0  1.000000   0.0  1.000000  3.00000  3.00000  1.000000  3.00000\n",
       "0  0.606531   1.0  0.606531  0.22313  0.22313  0.606531  0.22313"
      ]
     },
     "execution_count": 230,
     "metadata": {},
     "output_type": "execute_result"
    }
   ],
   "source": [
    "akhirskore = pd.concat([datascore, dataphi])\n",
    "akhirskore"
   ]
  },
  {
   "cell_type": "markdown",
   "metadata": {},
   "source": [
    "Scikit-learn menyediakan kelas `SelectKBest` yang dapat digunakan dengan beberapa uji statistik lain. ini akan meranking fitur sesuai dengan uji statistik yang ditentukan dan memilih k teratas( artinya term-term ini dianggap lebih relevan)"
   ]
  },
  {
   "cell_type": "code",
   "execution_count": 231,
   "metadata": {},
   "outputs": [
    {
     "data": {
      "text/plain": [
       "Index(['pecel', 'saya', 'warung'], dtype='object')"
      ]
     },
     "execution_count": 231,
     "metadata": {},
     "output_type": "execute_result"
    }
   ],
   "source": [
    "kbest = SelectKBest(score_func = chi2, k = 3)\n",
    "X_dtm_kbest = kbest.fit_transform(datane, y)\n",
    "mask = kbest.get_support()\n",
    "X_dtm_kbest = datane.columns[mask]\n",
    "X_dtm_kbest"
   ]
  },
  {
   "cell_type": "code",
   "execution_count": 232,
   "metadata": {},
   "outputs": [
    {
     "data": {
      "text/plain": [
       "Index(['pecel', 'saya', 'warung'], dtype='object')"
      ]
     },
     "execution_count": 232,
     "metadata": {},
     "output_type": "execute_result"
    }
   ],
   "source": [
    "X_dtm_kbest"
   ]
  },
  {
   "cell_type": "markdown",
   "metadata": {},
   "source": [
    "Jadi data model untuk teks mining adalah\n",
    "\n",
    "| nasi  | pecel | warung | Kelas |\n",
    "| ---- | ----- | ------ | ----- |\n",
    "| 1    | 0     | 0      | 1     |\n",
    "| 1    | 0     | 0      | 1     |\n",
    "| 1    | 0     | 1      | 2     |\n",
    "| 1    | 1     | 0      | 0     |\n",
    "\n",
    "     "
   ]
  },
  {
   "cell_type": "markdown",
   "metadata": {},
   "source": [
    "```{figure} ./images/featurebaru.png\n",
    "---\n",
    "height: 200px\n",
    "name: directive-fig\n",
    "---\n",
    "Nilai kritis!\n",
    "```"
   ]
  },
  {
   "cell_type": "markdown",
   "metadata": {},
   "source": [
    "# Kasus berita"
   ]
  },
  {
   "cell_type": "code",
   "execution_count": 35,
   "metadata": {},
   "outputs": [],
   "source": [
    "from sklearn.datasets import fetch_20newsgroups\n",
    "import pandas as pd\n",
    " # newsgroups categories\n",
    "categories = ['alt.atheism','talk.religion.misc',\n",
    "              'comp.graphics','sci.space']\n",
    "\n",
    "posts = fetch_20newsgroups(subset='train', categories=categories,\n",
    "                           shuffle=True, random_state=42,\n",
    "                           remove=('headers','footers','quotes'))"
   ]
  },
  {
   "cell_type": "code",
   "execution_count": 39,
   "metadata": {},
   "outputs": [
    {
     "data": {
      "text/plain": [
       "(2034, 26576)"
      ]
     },
     "execution_count": 39,
     "metadata": {},
     "output_type": "execute_result"
    }
   ],
   "source": [
    "from sklearn.feature_extraction.text import CountVectorizer\n",
    "vectorizer = CountVectorizer(lowercase=True,stop_words='english')\n",
    "X = vectorizer.fit_transform(posts.data)\n",
    "X.shape\n",
    "#vec=X.toarray()\n",
    "\n",
    "#datanews=pd.Dataframe(vec,columns = vectorizer.get_feature_names())\n",
    "\n"
   ]
  },
  {
   "cell_type": "code",
   "execution_count": 32,
   "metadata": {},
   "outputs": [],
   "source": [
    "from sklearn.feature_selection import chi2\n",
    "# menghitung chi2 untuk setiap fitur\n",
    "chi2score = chi2(X,posts.target)[0]"
   ]
  },
  {
   "cell_type": "code",
   "execution_count": 40,
   "metadata": {},
   "outputs": [
    {
     "data": {
      "image/png": "[encoded data removed]",
      "text/plain": [
       "<Figure size 432x432 with 1 Axes>"
      ]
     },
     "metadata": {
      "needs_background": "light"
     },
     "output_type": "display_data"
    }
   ],
   "source": [
    "from pylab import barh,plot,yticks,show,grid,xlabel,figure\n",
    "figure(figsize=(6,6))\n",
    "wscores = list(zip(vectorizer.get_feature_names(),chi2score))\n",
    "wchi2 = sorted(wscores,key=lambda x:x[1]) \n",
    "topchi2 = list(zip(*wchi2[-5:]))\n",
    "x = range(len(topchi2[1]))\n",
    "labels = topchi2[0]\n",
    "barh(x,topchi2[1],align='center',alpha=.2,color='g')\n",
    "plot(topchi2[1],x,'-o',markersize=2,alpha=.8,color='g')\n",
    "yticks(x,labels)\n",
    "xlabel('$\\chi^2$')\n",
    "show()"
   ]
  },
  {
   "cell_type": "code",
   "execution_count": null,
   "metadata": {},
   "outputs": [],
   "source": []
  }
 ],
 "metadata": {
  "anaconda-cloud": {},
  "kernelspec": {
   "display_name": "Python 3 (ipykernel)",
   "language": "python",
   "name": "python3"
  },
  "language_info": {
   "codemirror_mode": {
    "name": "ipython",
    "version": 3
   },
   "file_extension": ".py",
   "mimetype": "text/x-python",
   "name": "python",
   "nbconvert_exporter": "python",
   "pygments_lexer": "ipython3",
   "version": "3.7.6"
  },
  "toc": {
   "nav_menu": {
    "height": "126px",
    "width": "252px"
   },
   "number_sections": true,
   "sideBar": true,
   "skip_h1_title": false,
   "title_cell": "Table of Contents",
   "title_sidebar": "Contents",
   "toc_cell": true,
   "toc_position": {},
   "toc_section_display": "block",
   "toc_window_display": true
  },
  "varInspector": {
   "cols": {
    "lenName": 16,
    "lenType": 16,
    "lenVar": 40
   },
   "kernels_config": {
    "python": {
     "delete_cmd_postfix": "",
     "delete_cmd_prefix": "del ",
     "library": "var_list.py",
     "varRefreshCmd": "print(var_dic_list())"
    },
    "r": {
     "delete_cmd_postfix": ") ",
     "delete_cmd_prefix": "rm(",
     "library": "var_list.r",
     "varRefreshCmd": "cat(var_dic_list()) "
    }
   },
   "types_to_exclude": [
    "module",
    "function",
    "builtin_function_or_method",
    "instance",
    "_Feature"
   ],
   "window_display": false
  }
 },
 "nbformat": 4,
 "nbformat_minor": 4
}
